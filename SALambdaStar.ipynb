{
 "cells": [
  {
   "cell_type": "markdown",
   "metadata": {},
   "source": [
    "# Symbolically Assisted $\\Lambda^*$ "
   ]
  },
  {
   "cell_type": "markdown",
   "metadata": {},
   "source": [
    "## Introduction"
   ]
  },
  {
   "cell_type": "markdown",
   "metadata": {},
   "source": [
    "We present Symbolically Assisted $\\Lambda^*$ (SA-$\\Lambda^*$), a modification of $\\Lambda^*$ that incorporates symbolic information retrieved via Coastal, our concolic execution tool."
   ]
  },
  {
   "cell_type": "markdown",
   "metadata": {},
   "source": [
    "$\\Lambda^*$ consists of two components, a Learner and an Oracle. The \n",
    "Learner can issue two types of questions to the Oracle: membership queries and equivalence queries. The Oracle responds to membership queries with `true` (if the word $w$ is in the language $\\mathcal{L}$ accepted by the automaton) or `false` otherwise. Equivalence queries return `true` if the hypothesis automaton is equivalent to the target automaton, otherwise a counter example is returned to the Learner."
   ]
  },
  {
   "cell_type": "markdown",
   "metadata": {},
   "source": [
    "The Learner updates an internal data structure called the _observation table_. In classic $\\Lambda^*$, the row and column labels are concrete symbols from $\\Sigma^*$. In SA-$\\Lambda^*$, labels are constraints from $C^*$. For each $x \\in \\mathbb{W}$ and $p \\in C$, $p(x) = \\text{true} \\vert \\text{false}$. For now, we restrict ourselves to $W$, the domain of integers."
   ]
  },
  {
   "cell_type": "markdown",
   "metadata": {},
   "source": [
    "Once the observation table is closed and consistent, the Learner must produce an hypothesis automaton in order to issue an equivalence query. \n",
    "\n",
    "In classic $\\Lambda^*$ this happens in two steps: the creation of an evidence automaton (a DFA), and the learning of the intervals along the transitions (resulting in a SFA). \n",
    "\n",
    "In SA-$\\Lambda^*$, we leverage the path conditions collected when running the target parser symbolically via Coastal. From these path conditions, we can determine two things: the exact constraint on each character of the symbolic input at the end of the execution, and if this input resulted in the parser accepting or rejecting."
   ]
  },
  {
   "cell_type": "markdown",
   "metadata": {},
   "source": [
    "The hypothesis automaton is constructed from the observation table. SA-$\\Lambda^*$ uses the same procedures as classic $\\Lambda^*$. The semantics of appending constraints is straightforward: if $c_0, c_1 \\in C$, and $w = w_0w_1 \\in \\Sigma^*$, then the constraint $c_0 \\cdot c_1$ is satisfied _iff_ $c_0(w_0) = \\text{true}$ and $c_1(w_1) = \\text{true}$. Appending $\\epsilon$ is a no-op, it does not append a new constraint."
   ]
  },
  {
   "cell_type": "markdown",
   "metadata": {},
   "source": [
    "**TODO** Simple explanation of the table operations."
   ]
  },
  {
   "cell_type": "markdown",
   "metadata": {},
   "source": [
    "## Prelude"
   ]
  },
  {
   "cell_type": "code",
   "execution_count": 1,
   "metadata": {},
   "outputs": [],
   "source": [
    "from IPython.display import HTML, display\n",
    "import tabulate\n",
    "from tabledefs import *\n",
    "\n",
    "def display_table(table):\n",
    "    display(HTML(tabulate.tabulate(table, tablefmt='html')))"
   ]
  },
  {
   "cell_type": "markdown",
   "metadata": {},
   "source": [
    "## Worked Example (TACAS2017)"
   ]
  },
  {
   "cell_type": "markdown",
   "metadata": {},
   "source": [
    "This example is taken from _Learning Symbolic Automata_. The target parser  accepts all sequences of non-negative integers, _except_ sequences where there is a number $51 \\le x \\le 100$, that is not immediately followed by two numbers $y$, $z$ where $0 \\le y, z \\le 20$. "
   ]
  },
  {
   "cell_type": "markdown",
   "metadata": {},
   "source": [
    "We begin with out initial observation table. We sample an initial constraint from the set of symbolically collected constraints. $c_0 = [0\\ 50]$, where $[n\\ m]$ is notation the represent the constraint $n \\le x \\le m$."
   ]
  },
  {
   "cell_type": "code",
   "execution_count": 2,
   "metadata": {},
   "outputs": [
    {
     "data": {
      "text/html": [
       "<table>\n",
       "<tbody>\n",
       "<tr><td>𝑇1</td><td>𝜖</td></tr>\n",
       "<tr><td>𝜖 </td><td>+</td></tr>\n",
       "<tr><td>  </td><td> </td></tr>\n",
       "<tr><td>c0</td><td>+</td></tr>\n",
       "</tbody>\n",
       "</table>"
      ],
      "text/plain": [
       "<IPython.core.display.HTML object>"
      ]
     },
     "metadata": {},
     "output_type": "display_data"
    }
   ],
   "source": [
    "display_table(table1)"
   ]
  },
  {
   "cell_type": "markdown",
   "metadata": {},
   "source": [
    "The table is closed and consistent, so we create the hypothesis automaton and issue and equivalence query."
   ]
  },
  {
   "cell_type": "markdown",
   "metadata": {},
   "source": [
    "![T1](t1.jpeg)"
   ]
  },
  {
   "cell_type": "markdown",
   "metadata": {},
   "source": [
    "### Counter Example 1"
   ]
  },
  {
   "cell_type": "markdown",
   "metadata": {},
   "source": [
    "The first counter example is $(c_1 = [51\\ 100], -)$, where the first item in the tuple is the counter example, and the second item represents whether the parser accepted or rejected the input. New constraints are added to $C$ as they are discovered. Here, we have a new constraint that leads to a reject state. "
   ]
  },
  {
   "cell_type": "markdown",
   "metadata": {},
   "source": [
    "**TODO** Explain the state creation of close and the evidence expanding of make consistent"
   ]
  },
  {
   "cell_type": "markdown",
   "metadata": {},
   "source": [
    "We process the counter example, adding it to the and all it's prefixes into $R$."
   ]
  },
  {
   "cell_type": "code",
   "execution_count": 3,
   "metadata": {},
   "outputs": [
    {
     "data": {
      "text/html": [
       "<table>\n",
       "<tbody>\n",
       "<tr><td>𝑇2</td><td>𝜖</td></tr>\n",
       "<tr><td>𝜖 </td><td>+</td></tr>\n",
       "<tr><td>  </td><td> </td></tr>\n",
       "<tr><td>c0</td><td>+</td></tr>\n",
       "<tr><td>c1</td><td>-</td></tr>\n",
       "</tbody>\n",
       "</table>"
      ],
      "text/plain": [
       "<IPython.core.display.HTML object>"
      ]
     },
     "metadata": {},
     "output_type": "display_data"
    }
   ],
   "source": [
    "display_table(table2)"
   ]
  },
  {
   "cell_type": "markdown",
   "metadata": {},
   "source": [
    "The Learner performs a close operation, introducing a fail state into the automaton. $c_1$ is moved from $R$ to $S$, and we are required to add add $c_1 \\cdot a$. In classic $\\Lambda^*$, this is an arbritary character from the alphabet $\\Sigma$. In SF-$\\Lambda^*$, we attempt to further leverage the symbolic information provided by Coastal. We execute the target parser symbolically with an input of length two, where the first constraint is fixed to $c1$. We then select an arbritary constraint from the path conditions returned. In this case, $c_2 = [0\\ 20]$."
   ]
  },
  {
   "cell_type": "code",
   "execution_count": 4,
   "metadata": {},
   "outputs": [
    {
     "data": {
      "text/html": [
       "<table>\n",
       "<tbody>\n",
       "<tr><td>𝑇3     </td><td>𝜖</td></tr>\n",
       "<tr><td>𝜖      </td><td>+</td></tr>\n",
       "<tr><td>c1     </td><td>-</td></tr>\n",
       "<tr><td>       </td><td> </td></tr>\n",
       "<tr><td>c0     </td><td>+</td></tr>\n",
       "<tr><td>c1 ⋅ c2</td><td>-</td></tr>\n",
       "</tbody>\n",
       "</table>"
      ],
      "text/plain": [
       "<IPython.core.display.HTML object>"
      ]
     },
     "metadata": {},
     "output_type": "display_data"
    }
   ],
   "source": [
    "display_table(table3)"
   ]
  },
  {
   "cell_type": "markdown",
   "metadata": {},
   "source": [
    "![T3](t3.jpeg)"
   ]
  },
  {
   "cell_type": "markdown",
   "metadata": {},
   "source": [
    "### Counter Example 2"
   ]
  },
  {
   "cell_type": "markdown",
   "metadata": {},
   "source": [
    "The second counter example is $(c3 = [101\\ \\inf]), +)$. It is added to $R$."
   ]
  },
  {
   "cell_type": "code",
   "execution_count": 5,
   "metadata": {},
   "outputs": [
    {
     "data": {
      "text/html": [
       "<table>\n",
       "<tbody>\n",
       "<tr><td>𝑇4     </td><td>𝜖</td></tr>\n",
       "<tr><td>𝜖      </td><td>+</td></tr>\n",
       "<tr><td>c1     </td><td>-</td></tr>\n",
       "<tr><td>       </td><td> </td></tr>\n",
       "<tr><td>c0     </td><td>+</td></tr>\n",
       "<tr><td>c1 ⋅ c2</td><td>-</td></tr>\n",
       "<tr><td>c3     </td><td>+</td></tr>\n",
       "</tbody>\n",
       "</table>"
      ],
      "text/plain": [
       "<IPython.core.display.HTML object>"
      ]
     },
     "metadata": {},
     "output_type": "display_data"
    }
   ],
   "source": [
    "display_table(table4)"
   ]
  },
  {
   "cell_type": "markdown",
   "metadata": {},
   "source": [
    "![T4](t4.jpeg)"
   ]
  },
  {
   "cell_type": "markdown",
   "metadata": {},
   "source": [
    "### Counter Example 3"
   ]
  },
  {
   "cell_type": "markdown",
   "metadata": {},
   "source": [
    "The third counter example is $((c_1 \\cdot c_2 \\cdot c_2), +)$, where $c_1 = [51\\ 100]$ and $c_2 = [0\\ 20]$, and it is accepted by the target parser. We add the counter example and all its prefixes to $R$."
   ]
  },
  {
   "cell_type": "code",
   "execution_count": 6,
   "metadata": {},
   "outputs": [
    {
     "data": {
      "text/html": [
       "<table>\n",
       "<tbody>\n",
       "<tr><td>𝑇5          </td><td>𝜖</td></tr>\n",
       "<tr><td>𝜖           </td><td>+</td></tr>\n",
       "<tr><td>c1          </td><td>-</td></tr>\n",
       "<tr><td>            </td><td> </td></tr>\n",
       "<tr><td>c0          </td><td>+</td></tr>\n",
       "<tr><td>c1 ⋅ c2     </td><td>-</td></tr>\n",
       "<tr><td>c3          </td><td>+</td></tr>\n",
       "<tr><td>c1 ⋅ c2 ⋅ c2</td><td>+</td></tr>\n",
       "</tbody>\n",
       "</table>"
      ],
      "text/plain": [
       "<IPython.core.display.HTML object>"
      ]
     },
     "metadata": {},
     "output_type": "display_data"
    }
   ],
   "source": [
    "display_table(table5)"
   ]
  },
  {
   "cell_type": "markdown",
   "metadata": {},
   "source": [
    "We now apply `make-consistent` to the observation table."
   ]
  },
  {
   "cell_type": "code",
   "execution_count": 7,
   "metadata": {},
   "outputs": [
    {
     "data": {
      "text/html": [
       "<table>\n",
       "<tbody>\n",
       "<tr><td>𝑇6          </td><td>𝜖</td><td>c2</td></tr>\n",
       "<tr><td>𝜖           </td><td>+</td><td>+ </td></tr>\n",
       "<tr><td>c1          </td><td>-</td><td>- </td></tr>\n",
       "<tr><td>            </td><td> </td><td>  </td></tr>\n",
       "<tr><td>c0          </td><td>+</td><td>+ </td></tr>\n",
       "<tr><td>c1 ⋅ c2     </td><td>-</td><td>+ </td></tr>\n",
       "<tr><td>c3          </td><td>+</td><td>+ </td></tr>\n",
       "<tr><td>c1 ⋅ c2 ⋅ c2</td><td>+</td><td>+ </td></tr>\n",
       "</tbody>\n",
       "</table>"
      ],
      "text/plain": [
       "<IPython.core.display.HTML object>"
      ]
     },
     "metadata": {},
     "output_type": "display_data"
    }
   ],
   "source": [
    "display_table(table6)"
   ]
  },
  {
   "cell_type": "markdown",
   "metadata": {},
   "source": [
    "We now apply `close` to move $c_1 \\cdot c_2$ into $S$."
   ]
  },
  {
   "cell_type": "code",
   "execution_count": 8,
   "metadata": {},
   "outputs": [
    {
     "data": {
      "text/html": [
       "<table>\n",
       "<tbody>\n",
       "<tr><td>𝑇7          </td><td>𝜖</td><td>c2</td></tr>\n",
       "<tr><td>𝜖           </td><td>+</td><td>+ </td></tr>\n",
       "<tr><td>c1          </td><td>-</td><td>- </td></tr>\n",
       "<tr><td>c1 ⋅ c2     </td><td>-</td><td>+ </td></tr>\n",
       "<tr><td>            </td><td> </td><td>  </td></tr>\n",
       "<tr><td>c0          </td><td>+</td><td>+ </td></tr>\n",
       "<tr><td>c3          </td><td>+</td><td>+ </td></tr>\n",
       "<tr><td>c1 ⋅ c2 ⋅ c2</td><td>+</td><td>+ </td></tr>\n",
       "</tbody>\n",
       "</table>"
      ],
      "text/plain": [
       "<IPython.core.display.HTML object>"
      ]
     },
     "metadata": {},
     "output_type": "display_data"
    }
   ],
   "source": [
    "display_table(table7)"
   ]
  },
  {
   "cell_type": "markdown",
   "metadata": {},
   "source": [
    "![T7](t7.jpeg)"
   ]
  },
  {
   "cell_type": "markdown",
   "metadata": {},
   "source": [
    "### Counter Example 4"
   ]
  },
  {
   "cell_type": "markdown",
   "metadata": {},
   "source": [
    "The fourth counter example is $((c_1 \\cdot c_4), -)$, where $c_4 =\\ ! c_3 = [21\\ \\inf]$."
   ]
  },
  {
   "cell_type": "code",
   "execution_count": 9,
   "metadata": {},
   "outputs": [
    {
     "data": {
      "text/html": [
       "<table>\n",
       "<tbody>\n",
       "<tr><td>𝑇8          </td><td>𝜖</td><td>c2</td></tr>\n",
       "<tr><td>𝜖           </td><td>+</td><td>+ </td></tr>\n",
       "<tr><td>c1          </td><td>-</td><td>- </td></tr>\n",
       "<tr><td>c1 ⋅ c2     </td><td>-</td><td>+ </td></tr>\n",
       "<tr><td>            </td><td> </td><td>  </td></tr>\n",
       "<tr><td>c0          </td><td>+</td><td>+ </td></tr>\n",
       "<tr><td>c3          </td><td>+</td><td>+ </td></tr>\n",
       "<tr><td>c1 ⋅ c2 ⋅ c2</td><td>+</td><td>+ </td></tr>\n",
       "<tr><td>c1 ⋅ c4     </td><td>-</td><td>- </td></tr>\n",
       "</tbody>\n",
       "</table>"
      ],
      "text/plain": [
       "<IPython.core.display.HTML object>"
      ]
     },
     "metadata": {},
     "output_type": "display_data"
    }
   ],
   "source": [
    "display_table(table8)"
   ]
  },
  {
   "cell_type": "markdown",
   "metadata": {},
   "source": [
    "![T8](t8.jpeg)"
   ]
  },
  {
   "cell_type": "markdown",
   "metadata": {},
   "source": [
    "### Counter Example 5"
   ]
  },
  {
   "cell_type": "markdown",
   "metadata": {},
   "source": [
    "The fifth counter example is $((c_1 \\cdot c_4 \\cdot c_3 \\cdot c_3), -)$."
   ]
  },
  {
   "cell_type": "code",
   "execution_count": 10,
   "metadata": {},
   "outputs": [
    {
     "data": {
      "text/html": [
       "<table>\n",
       "<tbody>\n",
       "<tr><td>𝑇9               </td><td>𝜖</td><td>c2</td></tr>\n",
       "<tr><td>𝜖                </td><td>+</td><td>+ </td></tr>\n",
       "<tr><td>c1               </td><td>-</td><td>- </td></tr>\n",
       "<tr><td>c1 ⋅ c2          </td><td>-</td><td>+ </td></tr>\n",
       "<tr><td>                 </td><td> </td><td>  </td></tr>\n",
       "<tr><td>c0               </td><td>+</td><td>+ </td></tr>\n",
       "<tr><td>c3               </td><td>+</td><td>+ </td></tr>\n",
       "<tr><td>c1 ⋅ c2 ⋅ c2     </td><td>+</td><td>+ </td></tr>\n",
       "<tr><td>c1 ⋅ c4          </td><td>-</td><td>- </td></tr>\n",
       "<tr><td>c1 ⋅ c4 ⋅ c3 ⋅ c3</td><td>-</td><td>- </td></tr>\n",
       "<tr><td>c1 ⋅ c4 ⋅ c3     </td><td>-</td><td>- </td></tr>\n",
       "</tbody>\n",
       "</table>"
      ],
      "text/plain": [
       "<IPython.core.display.HTML object>"
      ]
     },
     "metadata": {},
     "output_type": "display_data"
    }
   ],
   "source": [
    "display_table(table9)"
   ]
  },
  {
   "cell_type": "markdown",
   "metadata": {},
   "source": [
    "Apply `make-consistent` to the table."
   ]
  },
  {
   "cell_type": "code",
   "execution_count": 11,
   "metadata": {},
   "outputs": [
    {
     "data": {
      "text/html": [
       "<table>\n",
       "<tbody>\n",
       "<tr><td>𝑇10              </td><td>𝜖</td><td>c2</td><td>c3 ⋅ c3</td></tr>\n",
       "<tr><td>𝜖                </td><td>+</td><td>+ </td><td>+      </td></tr>\n",
       "<tr><td>c1               </td><td>-</td><td>- </td><td>+      </td></tr>\n",
       "<tr><td>c1 ⋅ c2          </td><td>-</td><td>+ </td><td>+      </td></tr>\n",
       "<tr><td>                 </td><td> </td><td>  </td><td>       </td></tr>\n",
       "<tr><td>c0               </td><td>+</td><td>+ </td><td>+      </td></tr>\n",
       "<tr><td>c3               </td><td>+</td><td>+ </td><td>+      </td></tr>\n",
       "<tr><td>c1 ⋅ c2 ⋅ c2     </td><td>+</td><td>+ </td><td>+      </td></tr>\n",
       "<tr><td>c1 ⋅ c4          </td><td>-</td><td>- </td><td>-      </td></tr>\n",
       "<tr><td>c1 ⋅ c4 ⋅ c3 ⋅ c3</td><td>-</td><td>- </td><td>-      </td></tr>\n",
       "<tr><td>c1 ⋅ c4 ⋅ c3     </td><td>-</td><td>- </td><td>-      </td></tr>\n",
       "</tbody>\n",
       "</table>"
      ],
      "text/plain": [
       "<IPython.core.display.HTML object>"
      ]
     },
     "metadata": {},
     "output_type": "display_data"
    }
   ],
   "source": [
    "display_table(table10)"
   ]
  },
  {
   "cell_type": "markdown",
   "metadata": {},
   "source": [
    "Apply `close` to the table."
   ]
  },
  {
   "cell_type": "code",
   "execution_count": 12,
   "metadata": {},
   "outputs": [
    {
     "data": {
      "text/html": [
       "<table>\n",
       "<tbody>\n",
       "<tr><td>𝑇11              </td><td>𝜖</td><td>c2</td><td>c3 ⋅ c3</td></tr>\n",
       "<tr><td>𝜖                </td><td>+</td><td>+ </td><td>+      </td></tr>\n",
       "<tr><td>c1               </td><td>-</td><td>- </td><td>+      </td></tr>\n",
       "<tr><td>c1 ⋅ c2          </td><td>-</td><td>+ </td><td>+      </td></tr>\n",
       "<tr><td>c1 ⋅ c4          </td><td>-</td><td>- </td><td>-      </td></tr>\n",
       "<tr><td>                 </td><td> </td><td>  </td><td>       </td></tr>\n",
       "<tr><td>c0               </td><td>+</td><td>+ </td><td>+      </td></tr>\n",
       "<tr><td>c3               </td><td>+</td><td>+ </td><td>+      </td></tr>\n",
       "<tr><td>c1 ⋅ c2 ⋅ c2     </td><td>+</td><td>+ </td><td>+      </td></tr>\n",
       "<tr><td>c1 ⋅ c4 ⋅ c3 ⋅ c3</td><td>-</td><td>- </td><td>-      </td></tr>\n",
       "<tr><td>c1 ⋅ c4 ⋅ c3     </td><td>-</td><td>- </td><td>-      </td></tr>\n",
       "</tbody>\n",
       "</table>"
      ],
      "text/plain": [
       "<IPython.core.display.HTML object>"
      ]
     },
     "metadata": {},
     "output_type": "display_data"
    }
   ],
   "source": [
    "display_table(table11)"
   ]
  },
  {
   "cell_type": "markdown",
   "metadata": {},
   "source": [
    "![T11](t11.jpeg)"
   ]
  },
  {
   "cell_type": "markdown",
   "metadata": {},
   "source": [
    "## Broken Example (TACAS2017 FUBAR)"
   ]
  },
  {
   "cell_type": "markdown",
   "metadata": {},
   "source": [
    "The target automaton has a similar structure to the original TACAS example, but with predicates changed to be less _convienient_, in the sense that they overlap partially or are totally disjoint.\n",
    "\n",
    "![targetfub](targetfub.jpeg)"
   ]
  },
  {
   "cell_type": "markdown",
   "metadata": {},
   "source": [
    "#### Comparison with `symbolicautomata`"
   ]
  },
  {
   "cell_type": "markdown",
   "metadata": {},
   "source": [
    "For comparison sake, `symbolicautomata` is able to learn this.\n",
    "\n",
    "![learnme](learnme.png)"
   ]
  },
  {
   "cell_type": "markdown",
   "metadata": {},
   "source": [
    "---------------------------------"
   ]
  },
  {
   "cell_type": "markdown",
   "metadata": {},
   "source": [
    "Constraint $(c_1 = [21\\ \\inf], +)$ is sampled from a set of constraint / acceptance pairs obtained from a symbolic execution of depth 1 via Coastal."
   ]
  },
  {
   "cell_type": "code",
   "execution_count": 23,
   "metadata": {},
   "outputs": [
    {
     "data": {
      "text/html": [
       "<table>\n",
       "<tbody>\n",
       "<tr><td>𝑇1</td><td>𝜖</td></tr>\n",
       "<tr><td>𝜖 </td><td>+</td></tr>\n",
       "<tr><td>  </td><td> </td></tr>\n",
       "<tr><td>c1</td><td>+</td></tr>\n",
       "</tbody>\n",
       "</table>"
      ],
      "text/plain": [
       "<IPython.core.display.HTML object>"
      ]
     },
     "metadata": {},
     "output_type": "display_data"
    }
   ],
   "source": [
    "display_table(ftable1)"
   ]
  },
  {
   "cell_type": "markdown",
   "metadata": {},
   "source": [
    "### Counter Example 1"
   ]
  },
  {
   "cell_type": "markdown",
   "metadata": {},
   "source": [
    "The first counter example is $(c_1 = [0\\ 20], -)$."
   ]
  },
  {
   "cell_type": "code",
   "execution_count": 14,
   "metadata": {},
   "outputs": [
    {
     "data": {
      "text/html": [
       "<table>\n",
       "<tbody>\n",
       "<tr><td>𝑇2</td><td>𝜖</td></tr>\n",
       "<tr><td>𝜖 </td><td>+</td></tr>\n",
       "<tr><td>  </td><td> </td></tr>\n",
       "<tr><td>c1</td><td>+</td></tr>\n",
       "<tr><td>c2</td><td>-</td></tr>\n",
       "</tbody>\n",
       "</table>"
      ],
      "text/plain": [
       "<IPython.core.display.HTML object>"
      ]
     },
     "metadata": {},
     "output_type": "display_data"
    }
   ],
   "source": [
    "display_table(ftable2)"
   ]
  },
  {
   "cell_type": "markdown",
   "metadata": {},
   "source": [
    "Apply `close` to the table. Constraint $c_3 = [0\\ 24]$ is sampled from a set of constraints collected by Coastal, where the first constraint in the path condition was $c_2$. "
   ]
  },
  {
   "cell_type": "code",
   "execution_count": 15,
   "metadata": {},
   "outputs": [
    {
     "data": {
      "text/html": [
       "<table>\n",
       "<tbody>\n",
       "<tr><td>𝑇3   </td><td>𝜖</td></tr>\n",
       "<tr><td>𝜖    </td><td>+</td></tr>\n",
       "<tr><td>c2   </td><td>-</td></tr>\n",
       "<tr><td>     </td><td> </td></tr>\n",
       "<tr><td>c1   </td><td>+</td></tr>\n",
       "<tr><td>c2⋅c3</td><td>-</td></tr>\n",
       "</tbody>\n",
       "</table>"
      ],
      "text/plain": [
       "<IPython.core.display.HTML object>"
      ]
     },
     "metadata": {},
     "output_type": "display_data"
    }
   ],
   "source": [
    "display_table(ftable3)"
   ]
  },
  {
   "cell_type": "markdown",
   "metadata": {},
   "source": [
    "### Counter Example 2"
   ]
  },
  {
   "cell_type": "markdown",
   "metadata": {},
   "source": [
    "The second counter example is $(c_2 \\cdot c_4, -)$, with $c_4 = [25\\ 30]$.\n"
   ]
  },
  {
   "cell_type": "code",
   "execution_count": 16,
   "metadata": {},
   "outputs": [
    {
     "data": {
      "text/html": [
       "<table>\n",
       "<tbody>\n",
       "<tr><td>𝑇4   </td><td>𝜖</td></tr>\n",
       "<tr><td>𝜖    </td><td>+</td></tr>\n",
       "<tr><td>c2   </td><td>-</td></tr>\n",
       "<tr><td>     </td><td> </td></tr>\n",
       "<tr><td>c1   </td><td>+</td></tr>\n",
       "<tr><td>c2⋅c3</td><td>-</td></tr>\n",
       "<tr><td>c2⋅c4</td><td>-</td></tr>\n",
       "</tbody>\n",
       "</table>"
      ],
      "text/plain": [
       "<IPython.core.display.HTML object>"
      ]
     },
     "metadata": {},
     "output_type": "display_data"
    }
   ],
   "source": [
    "display_table(ftable4)"
   ]
  },
  {
   "cell_type": "markdown",
   "metadata": {},
   "source": [
    "### Counter Example 3"
   ]
  },
  {
   "cell_type": "markdown",
   "metadata": {},
   "source": [
    "The third counter example is $(c_2 \\cdot c_5, -)$, with $c_5 = [99\\ 99]$.\n"
   ]
  },
  {
   "cell_type": "code",
   "execution_count": 17,
   "metadata": {},
   "outputs": [
    {
     "data": {
      "text/html": [
       "<table>\n",
       "<tbody>\n",
       "<tr><td>𝑇5   </td><td>𝜖</td></tr>\n",
       "<tr><td>𝜖    </td><td>+</td></tr>\n",
       "<tr><td>c2   </td><td>-</td></tr>\n",
       "<tr><td>     </td><td> </td></tr>\n",
       "<tr><td>c1   </td><td>+</td></tr>\n",
       "<tr><td>c2⋅c3</td><td>-</td></tr>\n",
       "<tr><td>c2⋅c4</td><td>-</td></tr>\n",
       "<tr><td>c2⋅c5</td><td>-</td></tr>\n",
       "</tbody>\n",
       "</table>"
      ],
      "text/plain": [
       "<IPython.core.display.HTML object>"
      ]
     },
     "metadata": {},
     "output_type": "display_data"
    }
   ],
   "source": [
    "display_table(ftable5)"
   ]
  },
  {
   "cell_type": "markdown",
   "metadata": {},
   "source": [
    "### Counter Example 4"
   ]
  },
  {
   "cell_type": "markdown",
   "metadata": {},
   "source": [
    "The fourth counter example is $(c_2 \\cdot c_4 \\cdot c_6, +)$, with $c_6 = [0\\ 10]$.\n"
   ]
  },
  {
   "cell_type": "code",
   "execution_count": 18,
   "metadata": {},
   "outputs": [
    {
     "data": {
      "text/html": [
       "<table>\n",
       "<tbody>\n",
       "<tr><td>𝑇6      </td><td>𝜖</td></tr>\n",
       "<tr><td>𝜖       </td><td>+</td></tr>\n",
       "<tr><td>c2      </td><td>-</td></tr>\n",
       "<tr><td>        </td><td> </td></tr>\n",
       "<tr><td>c1      </td><td>+</td></tr>\n",
       "<tr><td>c2⋅c3   </td><td>-</td></tr>\n",
       "<tr><td>c2⋅c4   </td><td>-</td></tr>\n",
       "<tr><td>c2⋅c5   </td><td>-</td></tr>\n",
       "<tr><td>c2⋅c4⋅c6</td><td>+</td></tr>\n",
       "</tbody>\n",
       "</table>"
      ],
      "text/plain": [
       "<IPython.core.display.HTML object>"
      ]
     },
     "metadata": {},
     "output_type": "display_data"
    }
   ],
   "source": [
    "display_table(ftable6)"
   ]
  },
  {
   "cell_type": "markdown",
   "metadata": {},
   "source": [
    "### Counter Example 5"
   ]
  },
  {
   "cell_type": "markdown",
   "metadata": {},
   "source": [
    "The fifth counter example is $(c_2 \\cdot c_5 \\cdot c_6, -)$. \n"
   ]
  },
  {
   "cell_type": "code",
   "execution_count": 22,
   "metadata": {},
   "outputs": [
    {
     "data": {
      "text/html": [
       "<table>\n",
       "<tbody>\n",
       "<tr><td>𝑇7      </td><td>𝜖</td></tr>\n",
       "<tr><td>𝜖       </td><td>+</td></tr>\n",
       "<tr><td>c2      </td><td>-</td></tr>\n",
       "<tr><td>        </td><td> </td></tr>\n",
       "<tr><td>c1      </td><td>+</td></tr>\n",
       "<tr><td>c2⋅c3   </td><td>-</td></tr>\n",
       "<tr><td>c2⋅c4   </td><td>-</td></tr>\n",
       "<tr><td>c2⋅c5   </td><td>-</td></tr>\n",
       "<tr><td>c2⋅c4⋅c6</td><td>+</td></tr>\n",
       "<tr><td>c2⋅c5⋅c6</td><td>-</td></tr>\n",
       "</tbody>\n",
       "</table>"
      ],
      "text/plain": [
       "<IPython.core.display.HTML object>"
      ]
     },
     "metadata": {},
     "output_type": "display_data"
    }
   ],
   "source": [
    "display_table(ftable7)"
   ]
  },
  {
   "cell_type": "markdown",
   "metadata": {},
   "source": [
    "Apply `make-consistent` to the table."
   ]
  },
  {
   "cell_type": "code",
   "execution_count": 21,
   "metadata": {},
   "outputs": [
    {
     "data": {
      "text/html": [
       "<table>\n",
       "<tbody>\n",
       "<tr><td>𝑇8      </td><td>𝜖</td><td>c6</td></tr>\n",
       "<tr><td>𝜖       </td><td>+</td><td>  </td></tr>\n",
       "<tr><td>c2      </td><td>-</td><td>  </td></tr>\n",
       "<tr><td>        </td><td> </td><td>  </td></tr>\n",
       "<tr><td>c1      </td><td>+</td><td>  </td></tr>\n",
       "<tr><td>c2⋅c3   </td><td>-</td><td>  </td></tr>\n",
       "<tr><td>c2⋅c4   </td><td>-</td><td>+ </td></tr>\n",
       "<tr><td>c2⋅c5   </td><td>-</td><td>  </td></tr>\n",
       "<tr><td>c2⋅c4⋅c6</td><td>+</td><td>  </td></tr>\n",
       "<tr><td>c2⋅c5⋅c6</td><td>-</td><td>  </td></tr>\n",
       "</tbody>\n",
       "</table>"
      ],
      "text/plain": [
       "<IPython.core.display.HTML object>"
      ]
     },
     "metadata": {},
     "output_type": "display_data"
    }
   ],
   "source": [
    "display_table(ftable8)"
   ]
  },
  {
   "cell_type": "markdown",
   "metadata": {},
   "source": [
    "Note how the only valid path condition is $c_2 \\cdot c_4$. All other concatenations of constraints in $S \\cup R$ with constraints in $E$."
   ]
  }
 ],
 "metadata": {
  "kernelspec": {
   "display_name": "Python 3",
   "language": "python",
   "name": "python3"
  },
  "language_info": {
   "codemirror_mode": {
    "name": "ipython",
    "version": 3
   },
   "file_extension": ".py",
   "mimetype": "text/x-python",
   "name": "python",
   "nbconvert_exporter": "python",
   "pygments_lexer": "ipython3",
   "version": "3.7.1"
  }
 },
 "nbformat": 4,
 "nbformat_minor": 2
}
